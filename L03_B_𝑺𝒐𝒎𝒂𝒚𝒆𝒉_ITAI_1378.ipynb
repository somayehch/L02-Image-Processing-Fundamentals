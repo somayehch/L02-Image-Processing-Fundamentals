{
  "nbformat": 4,
  "nbformat_minor": 0,
  "metadata": {
    "colab": {
      "provenance": [],
      "authorship_tag": "ABX9TyPR0G0NVpWUEayx69hMb7Ka",
      "include_colab_link": true
    },
    "kernelspec": {
      "name": "python3",
      "display_name": "Python 3"
    },
    "language_info": {
      "name": "python"
    }
  },
  "cells": [
    {
      "cell_type": "markdown",
      "metadata": {
        "id": "view-in-github",
        "colab_type": "text"
      },
      "source": [
        "<a href=\"https://colab.research.google.com/github/somayehch/L02-Image-Processing-Fundamentals/blob/main/L03_B_%F0%9D%91%BA%F0%9D%92%90%F0%9D%92%8E%F0%9D%92%82%F0%9D%92%9A%F0%9D%92%86%F0%9D%92%89_ITAI_1378.ipynb\" target=\"_parent\"><img src=\"https://colab.research.google.com/assets/colab-badge.svg\" alt=\"Open In Colab\"/></a>"
      ]
    },
    {
      "cell_type": "markdown",
      "source": [
        "# Run this only if imports fail later:\n",
        "# !pip install -q numpy matplotlib tensorflow scikit-learn\n"
      ],
      "metadata": {
        "id": "Gsv7RlyH_pRy"
      }
    },
    {
      "cell_type": "code",
      "execution_count": 2,
      "metadata": {
        "id": "lT7_ZBQc-sFx"
      },
      "outputs": [],
      "source": [
        "#import libraries\n",
        "import numpy as np\n",
        "import matplotlib.pyplot as plt\n",
        "from tensorflow.keras.datasets import cifar10\n",
        "from sklearn.svm import SVC\n",
        "from sklearn.metrics import classification_report, accuracy_score\n"
      ]
    },
    {
      "cell_type": "markdown",
      "source": [
        "***load CIFAR-10***\n",
        "\n",
        "This gives 50,000 train + 10,000 test color images (32x32x3) and labels."
      ],
      "metadata": {
        "id": "Yk96eklyHtbU"
      }
    },
    {
      "cell_type": "code",
      "source": [
        "(X_train, y_train), (X_test, y_test) = cifar10.load_data()\n",
        "print(\"Train:\", X_train.shape, y_train.shape)\n",
        "print(\"Test :\", X_test.shape, y_test.shape)\n",
        "\n",
        "class_names = ['airplane','automobile','bird','cat','deer',\n",
        "               'dog','frog','horse','ship','truck']\n"
      ],
      "metadata": {
        "colab": {
          "base_uri": "https://localhost:8080/"
        },
        "id": "kG48zjaF_7y5",
        "outputId": "3038c023-f1e7-4d26-bd06-aa00b68c9345"
      },
      "execution_count": 3,
      "outputs": [
        {
          "output_type": "stream",
          "name": "stdout",
          "text": [
            "Downloading data from https://www.cs.toronto.edu/~kriz/cifar-10-python.tar.gz\n",
            "\u001b[1m170498071/170498071\u001b[0m \u001b[32m━━━━━━━━━━━━━━━━━━━━\u001b[0m\u001b[37m\u001b[0m \u001b[1m2s\u001b[0m 0us/step\n",
            "Train: (50000, 32, 32, 3) (50000, 1)\n",
            "Test : (10000, 32, 32, 3) (10000, 1)\n"
          ]
        }
      ]
    },
    {
      "cell_type": "markdown",
      "source": [
        "***choose classes + preprocessing***\n",
        "\n",
        "We'll keep it light by using 3 classes (e.g., cat, dog, ship).\n",
        "\n",
        "Then: grayscale → normalize → flatten.\n"
      ],
      "metadata": {
        "id": "4U6tYG0sIM8v"
      }
    },
    {
      "cell_type": "markdown",
      "source": [
        "***pick 3 classes and filter***"
      ],
      "metadata": {
        "id": "KCu3qyopIaot"
      }
    },
    {
      "cell_type": "code",
      "source": [
        "chosen_classes = ['cat','dog','ship']\n",
        "class_indices = [class_names.index(c) for c in chosen_classes]\n",
        "\n",
        "mask_train = np.isin(y_train, class_indices).flatten()\n",
        "mask_test  = np.isin(y_test,  class_indices).flatten()\n",
        "\n",
        "Xtr, ytr = X_train[mask_train], y_train[mask_train].ravel()\n",
        "Xte, yte = X_test[mask_test],  y_test[mask_test].ravel()\n",
        "\n",
        "print(\"Subset train:\", Xtr.shape, ytr.shape)\n",
        "print(\"Subset test :\", Xte.shape, yte.shape)\n"
      ],
      "metadata": {
        "colab": {
          "base_uri": "https://localhost:8080/"
        },
        "id": "OElGc9KrIeQ-",
        "outputId": "335e9d68-e2d1-41c1-beae-283f9540d779"
      },
      "execution_count": 4,
      "outputs": [
        {
          "output_type": "stream",
          "name": "stdout",
          "text": [
            "Subset train: (15000, 32, 32, 3) (15000,)\n",
            "Subset test : (3000, 32, 32, 3) (3000,)\n"
          ]
        }
      ]
    },
    {
      "cell_type": "markdown",
      "source": [
        "***convert to grayscale***\n",
        "\n",
        "**Why:** simpler features, faster training (one channel instead of three).\n",
        "\n",
        "Formula: 0.2989*R + 0.5870*G + 0.1140*B"
      ],
      "metadata": {
        "id": "bGUETx3KItuF"
      }
    },
    {
      "cell_type": "code",
      "source": [
        "def rgb2gray(x):\n",
        "    return np.dot(x[...,:3], [0.2989, 0.5870, 0.1140])\n",
        "\n",
        "Xtr_gray = rgb2gray(Xtr).astype(np.float32)\n",
        "Xte_gray = rgb2gray(Xte).astype(np.float32)\n",
        "print(Xtr_gray.shape, Xtr_gray.min(), Xtr_gray.max())\n"
      ],
      "metadata": {
        "colab": {
          "base_uri": "https://localhost:8080/"
        },
        "id": "csFF-bUCI2CW",
        "outputId": "2c727d1b-eab4-4ed8-b6c7-fc5568860703"
      },
      "execution_count": 5,
      "outputs": [
        {
          "output_type": "stream",
          "name": "stdout",
          "text": [
            "(15000, 32, 32) 0.0 254.9745\n"
          ]
        }
      ]
    },
    {
      "cell_type": "markdown",
      "source": [
        "***normalize to 0..1 and flatten***\n",
        "\n",
        "**Why normalize:** models learn better when values are in a similar range.\n",
        "\n",
        "**Why flatten:** SVM expects a 2D table: rows = images, columns = features."
      ],
      "metadata": {
        "id": "PRD3-lCiJA7H"
      }
    },
    {
      "cell_type": "code",
      "source": [
        "Xtr_norm = Xtr_gray / 255.0\n",
        "Xte_norm = Xte_gray / 255.0\n",
        "\n",
        "Xtr_flat = Xtr_norm.reshape(Xtr_norm.shape[0], -1)  # N × 1024\n",
        "Xte_flat = Xte_norm.reshape(Xte_norm.shape[0], -1)\n",
        "Xtr_flat.shape, Xte_flat.shape\n"
      ],
      "metadata": {
        "colab": {
          "base_uri": "https://localhost:8080/"
        },
        "id": "8hKOZ6oTI9mc",
        "outputId": "ce7f6bfe-d468-4fca-b545-1212218733f1"
      },
      "execution_count": 6,
      "outputs": [
        {
          "output_type": "execute_result",
          "data": {
            "text/plain": [
              "((15000, 1024), (3000, 1024))"
            ]
          },
          "metadata": {},
          "execution_count": 6
        }
      ]
    },
    {
      "cell_type": "markdown",
      "source": [
        "***quick visual check***\n",
        "\n"
      ],
      "metadata": {
        "id": "H4-sn9z1JQfv"
      }
    },
    {
      "cell_type": "code",
      "source": [
        "plt.figure(figsize=(12,3))\n",
        "for i in range(5):\n",
        "    plt.subplot(1,5,i+1)\n",
        "    plt.imshow(Xtr[i])\n",
        "    plt.title(class_names[ytr[i]])\n",
        "    plt.axis('off')\n",
        "plt.suptitle(\"Original color samples\"); plt.show()\n",
        "\n",
        "plt.figure(figsize=(12,3))\n",
        "for i in range(5):\n",
        "    plt.subplot(1,5,i+1)\n",
        "    plt.imshow(Xtr_gray[i], cmap='gray')\n",
        "    plt.title(class_names[ytr[i]])\n",
        "    plt.axis('off')\n",
        "plt.suptitle(\"Grayscale samples\"); plt.show()\n"
      ],
      "metadata": {
        "colab": {
          "base_uri": "https://localhost:8080/",
          "height": 507
        },
        "id": "EMlk2DHdJpck",
        "outputId": "fc7ab3fb-1271-4b37-8b0d-6bdbc7ec5315"
      },
      "execution_count": 7,
      "outputs": [
        {
          "output_type": "display_data",
          "data": {
            "text/plain": [
              "<Figure size 1200x300 with 5 Axes>"
            ],
            "image/png": "[encoded data removed]"
          },
          "metadata": {}
        },
        {
          "output_type": "display_data",
          "data": {
            "text/plain": [
              "<Figure size 1200x300 with 5 Axes>"
            ],
            "image/png": "[encoded data removed]"
          },
          "metadata": {}
        }
      ]
    },
    {
      "cell_type": "markdown",
      "source": [
        "# **train the linear SVM**\n",
        "\n",
        "\n",
        "***train and predict***\n",
        "\n",
        "**What is SVM (super short):**\n",
        "\n",
        "Draw a boundary (hyperplane) that best separates classes with a big margin."
      ],
      "metadata": {
        "id": "43_aabj2J5wg"
      }
    },
    {
      "cell_type": "code",
      "source": [
        "from sklearn.decomposition import PCA\n",
        "from sklearn.svm import LinearSVC\n",
        "from sklearn.metrics import accuracy_score, classification_report\n",
        "import time\n",
        "\n",
        "t0 = time.time()\n",
        "pca = PCA(n_components=64, random_state=42)   # reduce 1024 → 64\n",
        "Xtr_pca = pca.fit_transform(Xtr_flat)\n",
        "Xte_pca = pca.transform(Xte_flat)\n",
        "\n",
        "clf = LinearSVC(max_iter=5000, random_state=42)\n",
        "clf.fit(Xtr_pca, ytr)\n",
        "yp = clf.predict(Xte_pca)\n",
        "t1 = time.time()\n",
        "\n",
        "print(f\"Accuracy (PCA-64 + LinearSVC): {accuracy_score(yte, yp):.3f}  |  Time: {t1 - t0:.1f}s\")\n",
        "print(\"\\nReport:\\n\", classification_report(yte, yp, target_names=chosen_classes))\n"
      ],
      "metadata": {
        "id": "HZIXe9vEKMX9"
      },
      "execution_count": null,
      "outputs": []
    },
    {
      "cell_type": "code",
      "source": [
        "# ==== SUPER-FAST TRAINING CELL ====\n",
        "# Uses: 1) small random subset (1500)  2) PCA(32)  3) LinearSVC\n",
        "# Should finish in seconds on a normal laptop.\n",
        "\n",
        "import numpy as np, gc, time\n",
        "from sklearn.decomposition import PCA\n",
        "from sklearn.svm import LinearSVC\n",
        "from sklearn.metrics import accuracy_score, classification_report\n",
        "from sklearn.utils import resample\n",
        "\n",
        "# 0) make sure features are float32 (saves RAM, speeds PCA)\n",
        "Xtr_flat = Xtr_flat.astype(np.float32, copy=False)\n",
        "Xte_flat = Xte_flat.astype(np.float32, copy=False)\n",
        "\n",
        "# 1) take a smaller training sample (speed boost)\n",
        "X_small, y_small = resample(Xtr_flat, ytr, n_samples=1500, random_state=42)\n",
        "\n",
        "# 2) dimensionality reduction (1024 -> 32)\n",
        "t0 = time.time()\n",
        "pca = PCA(n_components=32, svd_solver='randomized', random_state=42)\n",
        "Xtr_pca = pca.fit_transform(X_small)\n",
        "Xte_pca = pca.transform(Xte_flat)\n",
        "\n",
        "# 3) quick linear classifier\n",
        "clf = LinearSVC(max_iter=3000, random_state=42)\n",
        "clf.fit(Xtr_pca, y_small)\n",
        "yp = clf.predict(Xte_pca)\n",
        "t1 = time.time()\n",
        "\n",
        "print(f\"Time: {t1 - t0:.1f}s  |  Accuracy: {accuracy_score(yte, yp):.3f}\")\n",
        "print(\"\\nReport:\\n\", classification_report(yte, yp, target_names=chosen_classes))\n",
        "\n",
        "# 4) clean up a bit\n",
        "del X_small, Xtr_pca, Xte_pca; gc.collect()\n"
      ],
      "metadata": {
        "colab": {
          "base_uri": "https://localhost:8080/"
        },
        "id": "c6TJHMXSLMNG",
        "outputId": "4d8337d6-f7d8-48ec-889d-e404411b2b65"
      },
      "execution_count": 9,
      "outputs": [
        {
          "output_type": "stream",
          "name": "stdout",
          "text": [
            "Time: 0.5s  |  Accuracy: 0.539\n",
            "\n",
            "Report:\n",
            "               precision    recall  f1-score   support\n",
            "\n",
            "         cat       0.47      0.44      0.46      1000\n",
            "         dog       0.51      0.41      0.46      1000\n",
            "        ship       0.61      0.77      0.68      1000\n",
            "\n",
            "    accuracy                           0.54      3000\n",
            "   macro avg       0.53      0.54      0.53      3000\n",
            "weighted avg       0.53      0.54      0.53      3000\n",
            "\n"
          ]
        },
        {
          "output_type": "execute_result",
          "data": {
            "text/plain": [
              "19337"
            ]
          },
          "metadata": {},
          "execution_count": 9
        }
      ]
    },
    {
      "cell_type": "markdown",
      "source": [
        "\n",
        "\n",
        "---\n",
        "\n",
        "\n",
        "\n",
        "***NOTE:***\n",
        "\n",
        "At the beginning, my linear SVM program didn't really work — it was too heavy and my laptop kept getting stuck. I didn't want to give up, so I tried a different approach with a smaller set of images and a faster method. That finally worked, and I was able to see results: ships were easier for the model to recognize, but cats and dogs were still tricky.challenging.remained tricky. challenging.\n",
        "\n",
        "\n",
        "---\n",
        "\n"
      ],
      "metadata": {
        "id": "UEFQ0bAJOd1c"
      }
    },
    {
      "cell_type": "markdown",
      "source": [
        "# **confusion matrix + saving a small artifact**\n",
        "\n",
        "confusion matrix (to see where it's wrong)"
      ],
      "metadata": {
        "id": "m9YgoFqkPEiK"
      }
    },
    {
      "cell_type": "code",
      "source": [
        "from sklearn.metrics import confusion_matrix\n",
        "import itertools\n",
        "cm = confusion_matrix(yte, yp, labels=class_indices)\n",
        "\n",
        "# reorder rows/cols into chosen_classes order\n",
        "order = class_indices\n",
        "cm = cm[np.ix_(order, order)]\n",
        "\n",
        "plt.figure(figsize=(5,4))\n",
        "plt.imshow(cm)\n",
        "plt.title(\"Confusion Matrix\")\n",
        "plt.colorbar()\n",
        "plt.xticks(range(3), chosen_classes, rotation=45)\n",
        "plt.yticks(range(3), chosen_classes)\n",
        "for i, j in itertools.product(range(3), range(3)):\n",
        "    plt.text(j, i, cm[i, j], ha=\"center\", va=\"center\")\n",
        "plt.tight_layout(); plt.show()\n"
      ],
      "metadata": {
        "colab": {
          "base_uri": "https://localhost:8080/",
          "height": 207
        },
        "id": "a0MdXvb1ME_q",
        "outputId": "7d4314f6-f255-4ebb-de45-48aa4e0241de"
      },
      "execution_count": 10,
      "outputs": [
        {
          "output_type": "error",
          "ename": "IndexError",
          "evalue": "index 3 is out of bounds for axis 0 with size 3",
          "traceback": [
            "\u001b[0;31m---------------------------------------------------------------------------\u001b[0m",
            "\u001b[0;31mIndexError\u001b[0m                                Traceback (most recent call last)",
            "\u001b[0;32m/tmp/ipython-input-1332650167.py\u001b[0m in \u001b[0;36m<cell line: 0>\u001b[0;34m()\u001b[0m\n\u001b[1;32m      5\u001b[0m \u001b[0;31m# reorder rows/cols into chosen_classes order\u001b[0m\u001b[0;34m\u001b[0m\u001b[0;34m\u001b[0m\u001b[0m\n\u001b[1;32m      6\u001b[0m \u001b[0morder\u001b[0m \u001b[0;34m=\u001b[0m \u001b[0mclass_indices\u001b[0m\u001b[0;34m\u001b[0m\u001b[0;34m\u001b[0m\u001b[0m\n\u001b[0;32m----> 7\u001b[0;31m \u001b[0mcm\u001b[0m \u001b[0;34m=\u001b[0m \u001b[0mcm\u001b[0m\u001b[0;34m[\u001b[0m\u001b[0mnp\u001b[0m\u001b[0;34m.\u001b[0m\u001b[0mix_\u001b[0m\u001b[0;34m(\u001b[0m\u001b[0morder\u001b[0m\u001b[0;34m,\u001b[0m \u001b[0morder\u001b[0m\u001b[0;34m)\u001b[0m\u001b[0;34m]\u001b[0m\u001b[0;34m\u001b[0m\u001b[0;34m\u001b[0m\u001b[0m\n\u001b[0m\u001b[1;32m      8\u001b[0m \u001b[0;34m\u001b[0m\u001b[0m\n\u001b[1;32m      9\u001b[0m \u001b[0mplt\u001b[0m\u001b[0;34m.\u001b[0m\u001b[0mfigure\u001b[0m\u001b[0;34m(\u001b[0m\u001b[0mfigsize\u001b[0m\u001b[0;34m=\u001b[0m\u001b[0;34m(\u001b[0m\u001b[0;36m5\u001b[0m\u001b[0;34m,\u001b[0m\u001b[0;36m4\u001b[0m\u001b[0;34m)\u001b[0m\u001b[0;34m)\u001b[0m\u001b[0;34m\u001b[0m\u001b[0;34m\u001b[0m\u001b[0m\n",
            "\u001b[0;31mIndexError\u001b[0m: index 3 is out of bounds for axis 0 with size 3"
          ]
        }
      ]
    },
    {
      "cell_type": "code",
      "source": [
        "from sklearn.metrics import confusion_matrix\n",
        "import matplotlib.pyplot as plt\n",
        "import itertools\n",
        "\n",
        "# Build confusion matrix in the order of your chosen classes\n",
        "cm = confusion_matrix(yte, yp, labels=class_indices)  # <-- labels fixes the order\n",
        "\n",
        "# Plot\n",
        "plt.figure(figsize=(5,4))\n",
        "plt.imshow(cm)\n",
        "plt.title(\"Confusion Matrix\")\n",
        "plt.colorbar()\n",
        "plt.xticks(range(len(chosen_classes)), chosen_classes, rotation=45)\n",
        "plt.yticks(range(len(chosen_classes)), chosen_classes)\n",
        "\n",
        "for i, j in itertools.product(range(cm.shape[0]), range(cm.shape[1])):\n",
        "    plt.text(j, i, cm[i, j], ha=\"center\", va=\"center\")\n",
        "\n",
        "plt.tight_layout()\n",
        "plt.show()\n"
      ],
      "metadata": {
        "colab": {
          "base_uri": "https://localhost:8080/",
          "height": 407
        },
        "id": "2yFYPg5ePRh9",
        "outputId": "7d7a68fe-b053-4f96-caef-3dc291ca861f"
      },
      "execution_count": 11,
      "outputs": [
        {
          "output_type": "display_data",
          "data": {
            "text/plain": [
              "<Figure size 500x400 with 2 Axes>"
            ],
            "image/png": "[encoded data removed]"
          },
          "metadata": {}
        }
      ]
    },
    {
      "cell_type": "markdown",
      "source": [
        "\n",
        "\n",
        "---\n",
        "\n",
        "**NOTE:**\n",
        "\n",
        "At first, my confusion matrix didn't work because I tried to use the original CIFAR-10 class numbers (like 3, 5, 8), but my matrix only had 3 rows and columns. That made Python show an “index out of bounds” error. I fixed it by giving the labels argument directly in confusion_matrix, so it built the matrix in the right order for my classes (cat, dog, ship). Now the rows and columns match my class names without any extra steps.\n",
        "\n",
        "\n",
        "\n",
        "---\n",
        "\n",
        "\n"
      ],
      "metadata": {
        "id": "WkYZt9G6P17Q"
      }
    },
    {
      "cell_type": "markdown",
      "source": [
        "save a tiny metrics file (nice for GitHub)"
      ],
      "metadata": {
        "id": "Lqxoo9m_QVs7"
      }
    },
    {
      "cell_type": "code",
      "source": [
        "import json, os\n",
        "os.makedirs(\"artifacts\", exist_ok=True)\n",
        "with open(\"artifacts/metrics.json\", \"w\") as f:\n",
        "    json.dump({\n",
        "        \"chosen_classes\": chosen_classes,\n",
        "        \"test_accuracy_linear_svm\": float(accuracy_score(yte, yp))\n",
        "    }, f, indent=2)\n",
        "print(\"Saved artifacts/metrics.json\")\n"
      ],
      "metadata": {
        "colab": {
          "base_uri": "https://localhost:8080/"
        },
        "id": "V1L5rTdxPi-7",
        "outputId": "cea0de6a-123f-45d4-dba4-383767f548a2"
      },
      "execution_count": 12,
      "outputs": [
        {
          "output_type": "stream",
          "name": "stdout",
          "text": [
            "Saved artifacts/metrics.json\n"
          ]
        }
      ]
    }
  ]
}